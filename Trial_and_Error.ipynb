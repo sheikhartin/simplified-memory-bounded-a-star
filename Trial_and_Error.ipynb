{
 "cells": [
  {
   "cell_type": "code",
   "execution_count": 2,
   "id": "4517d650",
   "metadata": {},
   "outputs": [
    {
     "data": {
      "text/plain": [
       "'\\n    $\\n  ##     ##\\n       ## X\\n'"
      ]
     },
     "execution_count": 2,
     "metadata": {},
     "output_type": "execute_result"
    }
   ],
   "source": [
    "sample_maze = \"\"\"\n",
    "    $\n",
    "  ##     ##\n",
    "       ## X\n",
    "\"\"\"\n",
    "\n",
    "sample_maze"
   ]
  },
  {
   "cell_type": "markdown",
   "id": "556e1b88",
   "metadata": {},
   "source": [
    "The letter `$` at the above indicates the starting point; `X` shows the goal point and finally, `#` means wall."
   ]
  },
  {
   "cell_type": "code",
   "execution_count": 3,
   "id": "3203d743",
   "metadata": {},
   "outputs": [],
   "source": [
    "import tempfile"
   ]
  },
  {
   "cell_type": "code",
   "execution_count": 4,
   "id": "a50cd74c",
   "metadata": {},
   "outputs": [
    {
     "name": "stdout",
     "output_type": "stream",
     "text": [
      "Maze saved to /tmp/map___npgvhe file!\n"
     ]
    }
   ],
   "source": [
    "tmp = tempfile.NamedTemporaryFile(prefix='map_', delete=False)\n",
    "tmp.write(sample_maze.encode('utf-8'))\n",
    "tmp.close()\n",
    "\n",
    "print(f'Maze saved to {tmp.name} file!')"
   ]
  },
  {
   "cell_type": "code",
   "execution_count": 6,
   "id": "6eee4fb8",
   "metadata": {},
   "outputs": [
    {
     "name": "stdout",
     "output_type": "stream",
     "text": [
      "\n",
      "    $\n",
      "  ##     ##\n",
      "       ## X\n",
      "\n",
      "Are the mazes the same? True\n"
     ]
    }
   ],
   "source": [
    "with open(tmp.name) as f:\n",
    "    context = f.read()\n",
    "    print(context)\n",
    "    \n",
    "print(f'Are the mazes the same? {sample_maze == context}')"
   ]
  },
  {
   "cell_type": "markdown",
   "id": "bf5f35f1",
   "metadata": {},
   "source": [
    "Converting the maze string into a 2D matrix:"
   ]
  },
  {
   "cell_type": "code",
   "execution_count": 7,
   "id": "61ede814",
   "metadata": {},
   "outputs": [
    {
     "name": "stdout",
     "output_type": "stream",
     "text": [
      "Matrix: [[' ', ' ', ' ', ' ', ' ', ' ', ' ', ' ', ' ', ' ', ' '], [' ', ' ', ' ', ' ', '$', ' ', ' ', ' ', ' ', ' ', ' '], [' ', ' ', '#', '#', ' ', ' ', ' ', ' ', ' ', '#', '#'], [' ', ' ', ' ', ' ', ' ', ' ', ' ', '#', '#', ' ', 'X']]\n",
      "Dimentations: 4x11\n"
     ]
    }
   ],
   "source": [
    "lines = sample_maze.splitlines()\n",
    "rows, cols = len(lines), max(map(len, lines))\n",
    "# matrix = [[' '] * cols] * rows\n",
    "matrix = [[' ' for _ in range(cols)] for _ in range(rows)]\n",
    "\n",
    "for i, line in enumerate(lines):\n",
    "    for j, char in enumerate(line):\n",
    "        if char not in '$X# ':\n",
    "            raise ValueError(f'Invalid character used: {repr(char)}')\n",
    "        matrix[i][j] = char\n",
    "\n",
    "print(f'Matrix: {matrix}')\n",
    "print(f'Dimentations: {rows}x{cols}')"
   ]
  },
  {
   "cell_type": "markdown",
   "id": "ebba4691",
   "metadata": {},
   "source": [
    "Some of the following code is inspired by [this](https://github.com/TheAlgorithms/Python/blob/master/machine_learning/astar.py) from [TheAlgorithms/Python](https://github.com/thealgorithms/python) repository on GitHub."
   ]
  },
  {
   "cell_type": "code",
   "execution_count": 8,
   "id": "eaa83c5b",
   "metadata": {},
   "outputs": [],
   "source": [
    "class Cell:\n",
    "    \"\"\"Cell class represents a cell in the maze.\n",
    "\n",
    "    Attributes:\n",
    "        value: The character stored in the cell.\n",
    "        position: Vertical and horizontal position of the cell in the maze.\n",
    "        parent: Cell which has been visited before this cell.\n",
    "        g: Cost from start to this cell.\n",
    "        h: Estimated cost from this cell to the goal.\n",
    "        f: Sum of the cost of this cell and the estimated cost to the goal.\n",
    "    \"\"\"\n",
    "\n",
    "    def __init__(self, value: str, position: tuple[int, int]) -> None:\n",
    "        self.value = value\n",
    "        self.position = position\n",
    "        self.parent = None\n",
    "\n",
    "        # Default values for g, h and f are same as 0; because this is just a cell\n",
    "        # and has no brain to calculate the values.\n",
    "        self.g = 0\n",
    "        self.h = 0\n",
    "        self.f = 0\n",
    "\n",
    "    def __eq__(self, other: 'Cell') -> bool:\n",
    "        return self.value == other.value and self.position == other.position\n",
    "\n",
    "    def __str__(self) -> str:\n",
    "        return f'Cell(value={repr(self.value)}, position={self.position}, parent={self.parent}, g={self.g}, h={self.h}, f={self.f})'\n",
    "\n",
    "    def __repr__(self) -> str:\n",
    "        return str(self)"
   ]
  },
  {
   "cell_type": "code",
   "execution_count": 9,
   "id": "a46112de",
   "metadata": {},
   "outputs": [],
   "source": [
    "from typing import Generator"
   ]
  },
  {
   "cell_type": "code",
   "execution_count": 10,
   "id": "78709124",
   "metadata": {},
   "outputs": [],
   "source": [
    "START_CHAR = '$'\n",
    "GOAL_CHAR = 'X'\n",
    "WALL_CHAR = '#'"
   ]
  },
  {
   "cell_type": "code",
   "execution_count": 11,
   "id": "cab5030a",
   "metadata": {},
   "outputs": [],
   "source": [
    "class Maze:\n",
    "    \"\"\"The place that represents a 2D grid of cells.\n",
    "\n",
    "    Attributes:\n",
    "        grid: A list of cells with their specific position.\n",
    "        horizontal_limit: The horizontal limit of the maze (x-axis).\n",
    "        vertical_limit: The vertical limit that we can go (y-axis).\n",
    "        start: The starting position of the maze.\n",
    "        goals: The goals positions that we want to reach.\n",
    "    \"\"\"\n",
    "\n",
    "    def __init__(self, maze: str) -> None:\n",
    "        lines = maze.splitlines()\n",
    "        rows, cols = len(lines), max(map(len, lines))\n",
    "        grid = [[Cell(' ', (i, j)) for j in range(cols)] for i in range(rows)]  # Generate a matrix based on the max length of rows\n",
    "        start = None\n",
    "        goals = []\n",
    "\n",
    "        for i, line in enumerate(lines):\n",
    "            for j, char in enumerate(line):\n",
    "                if char not in (START_CHAR, GOAL_CHAR, WALL_CHAR, ' '):\n",
    "                    raise ValueError(f'Invalid character used: {repr(char)}')\n",
    "                elif char == START_CHAR:\n",
    "                    if start is not None:\n",
    "                        raise ValueError('Multiple start positions found!')\n",
    "                    start = (i, j)\n",
    "                elif char == GOAL_CHAR:\n",
    "                    goals.append((i, j))\n",
    "                grid[i][j].value = char\n",
    "\n",
    "        self.grid = grid\n",
    "        self.horizontal_limit = rows\n",
    "        self.vertical_limit = cols\n",
    "        self.start = start\n",
    "        self.goals = goals\n",
    "\n",
    "    def __eq__(self, other: 'Maze') -> bool:\n",
    "        return self.grid == other.grid and self.start == other.start and self.goals == other.goals\n",
    "\n",
    "    def __str__(self) -> str:\n",
    "        return f'Maze(grid={self.grid}, horizontal_limit={self.horizontal_limit}, vertical_limit={self.vertical_limit}, start={self.start}, goals={self.goals})'\n",
    "\n",
    "    def __repr__(self) -> str:\n",
    "        return str(self)\n",
    "\n",
    "    def neighbors(self, cell: tuple[int, int]) -> Generator[tuple[int, int], None, None]:\n",
    "        \"\"\"Yields all the neighbors that are not walls.\"\"\"\n",
    "        current_x, current_y = cell\n",
    "        coords = [(-1, -1), (-1, 0), (-1, 1), (0, 1), (0, -1), (1, -1), (1, 0), (1, 1)]\n",
    "\n",
    "        for next_x, next_y in coords:\n",
    "            x = current_x + next_x\n",
    "            y = current_y + next_y\n",
    "            if 0 <= x < self.horizontal_limit and 0 <= y < self.vertical_limit and \\\n",
    "               self.grid[x][y].value != WALL_CHAR:\n",
    "                yield x, y"
   ]
  },
  {
   "cell_type": "code",
   "execution_count": 12,
   "id": "5c346e1e",
   "metadata": {},
   "outputs": [],
   "source": [
    "def reconstruct_path(current: Cell) -> list[tuple[int, int]]:\n",
    "    \"\"\"Reconstructs the path from the start to the goal.\"\"\"\n",
    "    path = [current.position]\n",
    "    while current.parent is not None:\n",
    "        current = current.parent\n",
    "        path.append(current.position)\n",
    "    return path[::-1]"
   ]
  },
  {
   "cell_type": "code",
   "execution_count": 16,
   "id": "6af05de0",
   "metadata": {},
   "outputs": [],
   "source": [
    "def sma_star(maze: Maze) -> list[tuple[int, int]]:\n",
    "    \"\"\"SMA* searches for the shortest path from the start to the goal(s).\"\"\"\n",
    "    if isinstance(maze, str):\n",
    "        maze = Maze(maze)\n",
    "\n",
    "    start_x, start_y = maze.start\n",
    "    opened = [maze.grid[start_x][start_y]]  # The list initiallized with the starting cell\n",
    "    closed = []  # No cells have been visited yet\n",
    "\n",
    "    while opened:\n",
    "        # print('---------------------------------------------------')\n",
    "        lowest_f = min(opened, key=lambda cell: cell.f)\n",
    "        current = opened.pop(opened.index(lowest_f))\n",
    "        # print(f'Current position is {current.position}')\n",
    "        closed.append(current)\n",
    "\n",
    "        if current.position in maze.goals:\n",
    "            # print(f'Goal found after {len(closed)} steps!')\n",
    "            # print('---------------------------------------------------')\n",
    "            return reconstruct_path(current)  # Return the path at the first goal found\n",
    "\n",
    "        for neighbor_x, neighbor_y in maze.neighbors(current.position):\n",
    "            neighbor_cell = maze.grid[neighbor_x][neighbor_y]\n",
    "            if neighbor_cell in closed:\n",
    "                # print(f'Cell {neighbor_cell.position} is already visited')\n",
    "                continue\n",
    "\n",
    "            neighbor_cell.parent = current  # Just the current cell as the parent is not good enough, because we need to trace back to the start\n",
    "            neighbor_cell.g = current.g + 1  # The path cost from the start to the node n increases by 1\n",
    "            current_x, current_y = current.position\n",
    "            neighbor_x, neighbor_y = neighbor_cell.position\n",
    "            neighbor_cell.h = abs(neighbor_x - current_x) + abs(neighbor_y - current_y)  # Manhattan distance\n",
    "            neighbor_cell.f = neighbor_cell.g + neighbor_cell.h\n",
    "            # print(f'Neighbor(position={neighbor_cell.position}, g={neighbor_cell.g}, h={neighbor_cell.h}, f={neighbor_cell.f})')\n",
    "\n",
    "            if neighbor_cell not in opened:\n",
    "                opened.append(neighbor_cell)\n",
    "                # print(f'Cell {neighbor_cell.position} added to the opened list')\n",
    "            # closed.append(neighbor_cell)  # The cell is now visited"
   ]
  },
  {
   "cell_type": "code",
   "execution_count": 17,
   "id": "e7db5842",
   "metadata": {},
   "outputs": [
    {
     "name": "stdout",
     "output_type": "stream",
     "text": [
      "Solution: [(1, 4), (2, 4), (2, 5), (1, 5), (1, 6), (0, 6), (0, 7), (1, 7), (0, 8), (1, 8), (2, 8), (3, 9), (3, 10)]\n",
      "      ∙∙∙  \n",
      "    $∙∙∙∙  \n",
      "  ##∙∙  ∙##\n",
      "       ##∙X\n"
     ]
    }
   ],
   "source": [
    "maze = Maze(sample_maze)\n",
    "sol = sma_star(maze)\n",
    "print(f'Solution: {sol}')\n",
    "\n",
    "for row in maze.grid:\n",
    "    for cell in row:\n",
    "        if cell.position in sol[1:-1]:\n",
    "            cell.value = '∙'\n",
    "        print(cell.value, end='')\n",
    "    print()"
   ]
  },
  {
   "cell_type": "code",
   "execution_count": null,
   "id": "8e9fb9a9",
   "metadata": {},
   "outputs": [],
   "source": []
  }
 ],
 "metadata": {
  "interpreter": {
   "hash": "e7370f93d1d0cde622a1f8e1c04877d8463912d04d973331ad4851f04de6915a"
  },
  "kernelspec": {
   "display_name": "Python 3.9.12 64-bit",
   "language": "python",
   "name": "python3"
  },
  "language_info": {
   "codemirror_mode": {
    "name": "ipython",
    "version": 3
   },
   "file_extension": ".py",
   "mimetype": "text/x-python",
   "name": "python",
   "nbconvert_exporter": "python",
   "pygments_lexer": "ipython3",
   "version": "3.9.12"
  }
 },
 "nbformat": 4,
 "nbformat_minor": 5
}
